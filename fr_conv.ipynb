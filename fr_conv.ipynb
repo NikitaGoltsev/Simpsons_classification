{
 "cells": [
  {
   "cell_type": "code",
   "execution_count": 137,
   "metadata": {},
   "outputs": [],
   "source": [
    "import torch\n",
    "import torch.nn as nn\n",
    "import numpy as np\n",
    "import pandas as pd\n",
    "import random"
   ]
  },
  {
   "cell_type": "code",
   "execution_count": 138,
   "metadata": {},
   "outputs": [
    {
     "name": "stdout",
     "output_type": "stream",
     "text": [
      "tensor([[[0.2381, 0.2836],\n",
      "         [0.7001, 0.2369]]])\n"
     ]
    }
   ],
   "source": [
    "x = torch.rand([1,2,2])\n",
    "print(x)"
   ]
  },
  {
   "cell_type": "code",
   "execution_count": 161,
   "metadata": {},
   "outputs": [],
   "source": [
    "class Module_conv_bn(nn.Module):\n",
    "    \n",
    "    def __init__(self) -> None:\n",
    "        super(Module_conv_bn, self).__init__()\n",
    "        self.conv = nn.Conv2d(1, 3, kernel_size=2, padding=1, stride=1, bias=True)\n",
    "        self.batch = nn.BatchNorm1d(3)\n",
    "    \n",
    "    def forward(self, x):\n",
    "        x = self.conv(x)\n",
    "        #\n",
    "        mean_x = x.sum()/sum(x.size())\n",
    "        std = torch.sqrt(x.var())\n",
    "        print(mean_x, std)\n",
    "        #\n",
    "        x = self.batch(x)\n",
    "        return x, self.conv.weight.data, self.conv.bias.data, self.batch.weight.data, mean_x, std"
   ]
  },
  {
   "cell_type": "code",
   "execution_count": 214,
   "metadata": {},
   "outputs": [
    {
     "name": "stdout",
     "output_type": "stream",
     "text": [
      "tensor(0.3928, grad_fn=<DivBackward0>) tensor(0.2971, grad_fn=<SqrtBackward0>)\n",
      "tensor([[[ 1.0097,  1.4177,  0.9557],\n",
      "         [ 1.2351,  1.3143,  0.6161],\n",
      "         [-0.2249,  0.2097,  0.3279]],\n",
      "\n",
      "        [[ 0.3148, -0.0903,  0.1503],\n",
      "         [-0.1550, -0.1916,  0.4695],\n",
      "         [ 0.8642,  1.6385,  0.6893]],\n",
      "\n",
      "        [[-0.9880, -1.1471, -1.6230],\n",
      "         [-0.1209, -1.4190, -1.7485],\n",
      "         [-0.4399, -1.5480, -1.5167]]], grad_fn=<NativeBatchNormBackward0>)\n"
     ]
    }
   ],
   "source": [
    "mod = Module_conv_bn()\n",
    "res, wt_conv, bs_conv, wt_batch, mean_x, std = mod(x)\n",
    "\n",
    "print(res)"
   ]
  },
  {
   "cell_type": "code",
   "execution_count": 237,
   "metadata": {},
   "outputs": [],
   "source": [
    "class Only_Conv(nn.Module):\n",
    "    def __init__(self) -> None:\n",
    "        super(Only_Conv, self).__init__()\n",
    "        self.new_conv = nn.Conv2d(1, 3, kernel_size=2, padding=1, stride=1, bias=True)\n",
    "        # I need to update date for that conv\n",
    "        # w=\n",
    "        self.new_conv.weight.data = (wt_conv * wt_batch[0])/ std \n",
    "        # bias = \n",
    "        self.new_conv.bias.data = ((bs_conv * wt_batch[0])/ std) + mean_x\n",
    "\n",
    "    def forward(self, x):\n",
    "        x = self.new_conv(x)\n",
    "        return x"
   ]
  },
  {
   "cell_type": "code",
   "execution_count": 238,
   "metadata": {},
   "outputs": [
    {
     "name": "stdout",
     "output_type": "stream",
     "text": [
      "[[[1.0097885131835938, 1.4178141355514526, 0.9558128118515015], [1.2351500988006592, 1.3143903017044067, 0.6160908937454224], [-0.22495843470096588, 0.20967090129852295, 0.3279365599155426]], [[0.3148476481437683, -0.09028516709804535, 0.15029263496398926], [-0.15498578548431396, -0.1915912628173828, 0.4695455729961395], [0.864259660243988, 1.638581395149231, 0.6893236637115479]], [[-0.988045871257782, -1.1471439599990845, -1.623081088066101], [-0.12095446139574051, -1.4190393686294556, -1.7486064434051514], [-0.4399503171443939, -1.5481081008911133, -1.51675546169281]]]\n"
     ]
    }
   ],
   "source": [
    "new_mod = Only_Conv()\n",
    "res = new_mod(x)\n",
    "print(res.tolist())"
   ]
  }
 ],
 "metadata": {
  "kernelspec": {
   "display_name": "Python 3.10.7 64-bit",
   "language": "python",
   "name": "python3"
  },
  "language_info": {
   "codemirror_mode": {
    "name": "ipython",
    "version": 3
   },
   "file_extension": ".py",
   "mimetype": "text/x-python",
   "name": "python",
   "nbconvert_exporter": "python",
   "pygments_lexer": "ipython3",
   "version": "3.10.7"
  },
  "orig_nbformat": 4,
  "vscode": {
   "interpreter": {
    "hash": "767d51c1340bd893661ea55ea3124f6de3c7a262a8b4abca0554b478b1e2ff90"
   }
  }
 },
 "nbformat": 4,
 "nbformat_minor": 2
}
