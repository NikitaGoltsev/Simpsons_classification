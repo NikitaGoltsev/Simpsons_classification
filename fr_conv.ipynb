{
 "cells": [
  {
   "cell_type": "code",
   "execution_count": 1,
   "metadata": {},
   "outputs": [
    {
     "name": "stdout",
     "output_type": "stream",
     "text": [
      "The history saving thread hit an unexpected error (OperationalError('no such table: history')).History will not be written to the database.\n"
     ]
    }
   ],
   "source": [
    "import torch\n",
    "import torch.nn as nn\n",
    "import numpy as np\n",
    "import pandas as pd\n",
    "import random"
   ]
  },
  {
   "cell_type": "code",
   "execution_count": 2,
   "metadata": {},
   "outputs": [
    {
     "name": "stdout",
     "output_type": "stream",
     "text": [
      "tensor([[[0.3734, 0.4398],\n",
      "         [0.0757, 0.1474]]])\n",
      "tensor([[[0.7399, 0.9163, 0.0459],\n",
      "         [0.2964, 0.3350, 0.5451],\n",
      "         [0.4860, 0.3548, 0.1676]],\n",
      "\n",
      "        [[0.9767, 0.4570, 0.1339],\n",
      "         [0.5771, 0.8491, 0.5099],\n",
      "         [0.6372, 0.5387, 0.0905]],\n",
      "\n",
      "        [[0.4654, 0.4450, 0.8743],\n",
      "         [0.5344, 0.5887, 0.4914],\n",
      "         [0.8751, 0.2260, 0.5321]]])\n"
     ]
    }
   ],
   "source": [
    "x = torch.rand([1,2,2])\n",
    "y = torch.rand([3,3,3]) \n",
    "print(x)\n",
    "print(y)"
   ]
  },
  {
   "cell_type": "code",
   "execution_count": 4,
   "metadata": {},
   "outputs": [],
   "source": [
    "class Module_conv_bn(nn.Module):\n",
    "    \n",
    "    def __init__(self) -> None:\n",
    "        super(Module_conv_bn, self).__init__()\n",
    "        self.conv = nn.Conv2d(1, 3, kernel_size=2, padding=1, stride=1, bias=True)\n",
    "        self.batch = nn.BatchNorm1d(3)\n",
    "    \n",
    "    def forward(self, x):\n",
    "        x = self.conv(x)\n",
    "        #\n",
    "        mean_x = x.sum()/sum(x.size())\n",
    "        std = torch.sqrt(x.var())\n",
    "        print(mean_x, std)\n",
    "        #\n",
    "        x = self.batch(x)\n",
    "\n",
    "        return x, self.conv.weight.data, self.conv.bias.data, self.batch.weight.data, mean_x, std"
   ]
  },
  {
   "cell_type": "code",
   "execution_count": 15,
   "metadata": {},
   "outputs": [],
   "source": [
    "learning_rate = 0.01\n",
    "\n",
    "def loss(y_pred, y):\n",
    "    return torch.sum(y - y_pred)\n",
    "\n",
    "#loss = nn.MSELoss\n"
   ]
  },
  {
   "cell_type": "code",
   "execution_count": 30,
   "metadata": {},
   "outputs": [
    {
     "name": "stdout",
     "output_type": "stream",
     "text": [
      "tensor(0.6302, grad_fn=<DivBackward0>) tensor(0.2824, grad_fn=<SqrtBackward0>)\n",
      "tensor(0.6302, grad_fn=<DivBackward0>) tensor(0.2824, grad_fn=<SqrtBackward0>)\n",
      "tensor(0.6302, grad_fn=<DivBackward0>) tensor(0.2824, grad_fn=<SqrtBackward0>)\n",
      "tensor(0.6302, grad_fn=<DivBackward0>) tensor(0.2824, grad_fn=<SqrtBackward0>)\n",
      "tensor([[[-1.1260, -0.3253, -1.3835],\n",
      "         [-0.6737, -0.9837, -1.6349],\n",
      "         [-1.0104, -1.0568, -1.3146]],\n",
      "\n",
      "        [[ 0.2607,  0.7623,  1.7346],\n",
      "         [ 0.9151,  1.0591,  0.7640],\n",
      "         [ 0.8030,  0.9105,  0.7357]],\n",
      "\n",
      "        [[ 0.6670,  0.3864,  1.4537],\n",
      "         [ 0.8352,  0.9984,  1.1505],\n",
      "         [ 1.0658,  1.1358,  1.1610]]], grad_fn=<NativeBatchNormBackward0>)\n"
     ]
    }
   ],
   "source": [
    "mod = Module_conv_bn()\n",
    "optimizer = torch.optim.SGD(mod.parameters(), lr = learning_rate)\n",
    "num_epoch = 3\n",
    "for epoch in range(num_epoch):\n",
    "    Y_pred, wt_conv, bs_conv, wt_batch, mean_x, std = mod(x)\n",
    "    Loss = loss(Y_pred, y)\n",
    "\n",
    "    Loss.backward()\n",
    "\n",
    "    optimizer.step()\n",
    "    optimizer.zero_grad()\n",
    "\n",
    "resn, wt_conv, bs_conv, wt_batch, mean_x, std = mod(x)\n",
    "print(resn)"
   ]
  },
  {
   "cell_type": "code",
   "execution_count": 24,
   "metadata": {},
   "outputs": [],
   "source": [
    "class Only_Conv(nn.Module):\n",
    "    def __init__(self) -> None:\n",
    "        super(Only_Conv, self).__init__()\n",
    "        self.new_conv = nn.Conv2d(1, 3, kernel_size=2, padding=1, stride=1, bias=True)\n",
    "        # I need to update date for that conv\n",
    "        # w=\n",
    "        self.new_conv.weight.data = wt_conv\n",
    "        # bias = \n",
    "        self.new_conv.bias.data = bs_conv\n",
    "    def forward(self, x):\n",
    "        x = self.new_conv(x)\n",
    "        x = self.batch(x)\n",
    "        return x"
   ]
  },
  {
   "cell_type": "code",
   "execution_count": 31,
   "metadata": {},
   "outputs": [
    {
     "name": "stdout",
     "output_type": "stream",
     "text": [
      "[[[-1.1260391473770142, -0.32527828216552734, -1.383480429649353], [-0.6737300157546997, -0.9836843609809875, -1.634893774986267], [-1.0104479789733887, -1.05678391456604, -1.3146300315856934]], [[0.2607495188713074, 0.7623230218887329, 1.7345609664916992], [0.9150708913803101, 1.0590776205062866, 0.7640436887741089], [0.8029901385307312, 0.9105324149131775, 0.7357233166694641]], [[0.6669796705245972, 0.386446088552475, 1.4537380933761597], [0.8351789712905884, 0.9983914494514465, 1.150545358657837], [1.065812349319458, 1.1357749700546265, 1.1610283851623535]]]\n"
     ]
    }
   ],
   "source": [
    "new_mod = Only_Conv()\n",
    "res = new_mod(x)\n",
    "print(res.tolist())"
   ]
  }
 ],
 "metadata": {
  "kernelspec": {
   "display_name": "Python 3.10.7 64-bit",
   "language": "python",
   "name": "python3"
  },
  "language_info": {
   "codemirror_mode": {
    "name": "ipython",
    "version": 3
   },
   "file_extension": ".py",
   "mimetype": "text/x-python",
   "name": "python",
   "nbconvert_exporter": "python",
   "pygments_lexer": "ipython3",
   "version": "3.10.7"
  },
  "orig_nbformat": 4,
  "vscode": {
   "interpreter": {
    "hash": "767d51c1340bd893661ea55ea3124f6de3c7a262a8b4abca0554b478b1e2ff90"
   }
  }
 },
 "nbformat": 4,
 "nbformat_minor": 2
}
