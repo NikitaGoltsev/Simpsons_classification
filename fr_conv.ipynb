{
 "cells": [
  {
   "cell_type": "code",
   "execution_count": 137,
   "metadata": {},
   "outputs": [],
   "source": [
    "import torch\n",
    "import torch.nn as nn\n",
    "import numpy as np\n",
    "import pandas as pd\n",
    "import random"
   ]
  },
  {
   "cell_type": "code",
   "execution_count": 138,
   "metadata": {},
   "outputs": [
    {
     "name": "stdout",
     "output_type": "stream",
     "text": [
      "tensor([[[0.2381, 0.2836],\n",
      "         [0.7001, 0.2369]]])\n"
     ]
    }
   ],
   "source": [
    "x = torch.rand([1,2,2])\n",
    "print(x)"
   ]
  },
  {
   "cell_type": "code",
   "execution_count": 161,
   "metadata": {},
   "outputs": [],
   "source": [
    "class Module_conv_bn(nn.Module):\n",
    "    \n",
    "    def __init__(self) -> None:\n",
    "        super(Module_conv_bn, self).__init__()\n",
    "        self.conv = nn.Conv2d(1, 3, kernel_size=2, padding=1, stride=1, bias=True)\n",
    "        self.batch = nn.BatchNorm1d(3)\n",
    "    \n",
    "    def forward(self, x):\n",
    "        x = self.conv(x)\n",
    "        #\n",
    "        mean_x = x.sum()/sum(x.size())\n",
    "        std = torch.sqrt(x.var())\n",
    "        print(mean_x, std)\n",
    "        #\n",
    "        x = self.batch(x)\n",
    "        return x, self.conv.weight.data, self.conv.bias.data, self.batch.weight.data, mean_x, std"
   ]
  },
  {
   "cell_type": "code",
   "execution_count": 214,
   "metadata": {},
   "outputs": [
    {
     "name": "stdout",
     "output_type": "stream",
     "text": [
      "tensor(0.3928, grad_fn=<DivBackward0>) tensor(0.2971, grad_fn=<SqrtBackward0>)\n",
      "tensor([[[ 1.0097,  1.4177,  0.9557],\n",
      "         [ 1.2351,  1.3143,  0.6161],\n",
      "         [-0.2249,  0.2097,  0.3279]],\n",
      "\n",
      "        [[ 0.3148, -0.0903,  0.1503],\n",
      "         [-0.1550, -0.1916,  0.4695],\n",
      "         [ 0.8642,  1.6385,  0.6893]],\n",
      "\n",
      "        [[-0.9880, -1.1471, -1.6230],\n",
      "         [-0.1209, -1.4190, -1.7485],\n",
      "         [-0.4399, -1.5480, -1.5167]]], grad_fn=<NativeBatchNormBackward0>)\n"
     ]
    }
   ],
   "source": [
    "mod = Module_conv_bn()\n",
    "res, wt_conv, bs_conv, wt_batch, mean_x, std = mod(x)\n",
    "\n",
    "print(res)"
   ]
  },
  {
   "cell_type": "code",
   "execution_count": 229,
   "metadata": {},
   "outputs": [],
   "source": [
    "class Only_Conv(nn.Module):\n",
    "    def __init__(self) -> None:\n",
    "        super(Only_Conv, self).__init__()\n",
    "        self.new_conv = nn.Conv2d(1, 3, kernel_size=2, padding=1, stride=1, bias=True)\n",
    "        # I need to update date for that conv\n",
    "        # w=\n",
    "        self.new_conv.weight.data = (wt_conv * wt_batch[0])/ std \n",
    "        # bias = \n",
    "        self.new_conv.bias.data = ((bs_conv * wt_batch[0])/ std) + mean_x\n",
    "    def forward(self, x):\n",
    "        x = self.new_conv(x)\n",
    "        return x"
   ]
  },
  {
   "cell_type": "code",
   "execution_count": 230,
   "metadata": {},
   "outputs": [
    {
     "name": "stdout",
     "output_type": "stream",
     "text": [
      "tensor([[[ 1.0098,  1.4178,  0.9558],\n",
      "         [ 1.2352,  1.3144,  0.6161],\n",
      "         [-0.2250,  0.2097,  0.3279]],\n",
      "\n",
      "        [[ 0.3148, -0.0903,  0.1503],\n",
      "         [-0.1550, -0.1916,  0.4695],\n",
      "         [ 0.8643,  1.6386,  0.6893]],\n",
      "\n",
      "        [[-0.9880, -1.1471, -1.6231],\n",
      "         [-0.1210, -1.4190, -1.7486],\n",
      "         [-0.4400, -1.5481, -1.5168]]], grad_fn=<NativeBatchNormBackward0>)\n"
     ]
    }
   ],
   "source": [
    "new_mod = Only_Conv()\n",
    "res = new_mod(x)\n",
    "print(res)"
   ]
  }
 ],
 "metadata": {
  "kernelspec": {
   "display_name": "Python 3.10.7 64-bit",
   "language": "python",
   "name": "python3"
  },
  "language_info": {
   "codemirror_mode": {
    "name": "ipython",
    "version": 3
   },
   "file_extension": ".py",
   "mimetype": "text/x-python",
   "name": "python",
   "nbconvert_exporter": "python",
   "pygments_lexer": "ipython3",
   "version": "3.10.7"
  },
  "orig_nbformat": 4,
  "vscode": {
   "interpreter": {
    "hash": "767d51c1340bd893661ea55ea3124f6de3c7a262a8b4abca0554b478b1e2ff90"
   }
  }
 },
 "nbformat": 4,
 "nbformat_minor": 2
}
