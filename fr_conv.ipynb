{
 "cells": [
  {
   "cell_type": "code",
   "execution_count": 24,
   "metadata": {},
   "outputs": [],
   "source": [
    "import torch\n",
    "import torch.nn as nn\n",
    "import numpy as np\n",
    "import pandas as pd\n",
    "import random"
   ]
  },
  {
   "cell_type": "code",
   "execution_count": 25,
   "metadata": {},
   "outputs": [
    {
     "name": "stdout",
     "output_type": "stream",
     "text": [
      "tensor([[[1., 1.],\n",
      "         [1., 1.]]])\n"
     ]
    }
   ],
   "source": [
    "x = torch.ones([1,2,2])\n",
    "print(x)"
   ]
  },
  {
   "cell_type": "code",
   "execution_count": 40,
   "metadata": {},
   "outputs": [],
   "source": [
    "class Module_conv_bn(nn.Module):\n",
    "    def __init__(self) -> None:\n",
    "        super(Module_conv_bn, self).__init__()\n",
    "        self.conv = nn.Conv2d(1, 3, kernel_size=2, padding=1, stride=1)\n",
    "        self.batch = nn.BatchNorm1d(3)\n",
    "    def forward(self, x):\n",
    "        x = self.conv(x)\n",
    "        x = self.batch(x)\n",
    "        return x, self.conv.weight.data, self.batch.weight.data"
   ]
  },
  {
   "cell_type": "code",
   "execution_count": 41,
   "metadata": {},
   "outputs": [
    {
     "name": "stdout",
     "output_type": "stream",
     "text": [
      "tensor([[[ 1.1232, -0.0112, -1.3246],\n",
      "         [ 1.7090, -0.2784, -2.0913],\n",
      "         [ 1.6978, -0.2236, -1.6009]],\n",
      "\n",
      "        [[-0.6196, -0.6815, -1.1291],\n",
      "         [ 0.4927,  0.7041, -0.5734],\n",
      "         [ 0.7531,  1.2036, -0.4111]],\n",
      "\n",
      "        [[-0.1182,  1.2502,  1.5109],\n",
      "         [-0.4776, -0.0585,  0.5734],\n",
      "         [ 0.0231, -1.0939, -0.3481]]], grad_fn=<NativeBatchNormBackward0>)\n"
     ]
    }
   ],
   "source": [
    "mod = Module_conv_bn()\n",
    "res, wt_conv, wt_batch = mod(x)\n",
    "print(res)"
   ]
  },
  {
   "cell_type": "code",
   "execution_count": 42,
   "metadata": {},
   "outputs": [
    {
     "name": "stdout",
     "output_type": "stream",
     "text": [
      "tensor([1., 1., 1.])\n"
     ]
    }
   ],
   "source": [
    "print(wt_batch)"
   ]
  },
  {
   "cell_type": "code",
   "execution_count": 43,
   "metadata": {},
   "outputs": [],
   "source": [
    "class Only_Conv(nn.Module):\n",
    "    def __init__(self) -> None:\n",
    "        super(Only_Conv, self).__init__()\n",
    "        self.new_conv = nn.Conv2d(1, 3, kernel_size=2, padding=1, stride=1)\n",
    "        # I need to update date for that conv\n",
    "        self.new_conv.weight.data=(wt_conv)\n",
    "    def forward(self, x):\n",
    "        x = self.conv(x)\n",
    "        return x"
   ]
  },
  {
   "cell_type": "code",
   "execution_count": 44,
   "metadata": {},
   "outputs": [
    {
     "name": "stdout",
     "output_type": "stream",
     "text": [
      "tensor([[[ 1.1232, -0.0112, -1.3246],\n",
      "         [ 1.7090, -0.2784, -2.0913],\n",
      "         [ 1.6978, -0.2236, -1.6009]],\n",
      "\n",
      "        [[-0.6196, -0.6815, -1.1291],\n",
      "         [ 0.4927,  0.7041, -0.5734],\n",
      "         [ 0.7531,  1.2036, -0.4111]],\n",
      "\n",
      "        [[-0.1182,  1.2502,  1.5109],\n",
      "         [-0.4776, -0.0585,  0.5734],\n",
      "         [ 0.0231, -1.0939, -0.3481]]], grad_fn=<NativeBatchNormBackward0>)\n"
     ]
    }
   ],
   "source": [
    "new_mod = Only_Conv()\n",
    "res, wt_conv, wt_batch = mod(x)\n",
    "print(res)"
   ]
  }
 ],
 "metadata": {
  "kernelspec": {
   "display_name": "Python 3.10.7 64-bit",
   "language": "python",
   "name": "python3"
  },
  "language_info": {
   "codemirror_mode": {
    "name": "ipython",
    "version": 3
   },
   "file_extension": ".py",
   "mimetype": "text/x-python",
   "name": "python",
   "nbconvert_exporter": "python",
   "pygments_lexer": "ipython3",
   "version": "3.10.7"
  },
  "orig_nbformat": 4,
  "vscode": {
   "interpreter": {
    "hash": "767d51c1340bd893661ea55ea3124f6de3c7a262a8b4abca0554b478b1e2ff90"
   }
  }
 },
 "nbformat": 4,
 "nbformat_minor": 2
}
