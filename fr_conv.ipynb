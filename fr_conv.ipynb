{
 "cells": [
  {
   "cell_type": "code",
   "execution_count": 137,
   "metadata": {},
   "outputs": [],
   "source": [
    "import torch\n",
    "import torch.nn as nn\n",
    "import numpy as np\n",
    "import pandas as pd\n",
    "import random"
   ]
  },
  {
   "cell_type": "code",
   "execution_count": 138,
   "metadata": {},
   "outputs": [
    {
     "name": "stdout",
     "output_type": "stream",
     "text": [
      "tensor([[[0.2381, 0.2836],\n",
      "         [0.7001, 0.2369]]])\n"
     ]
    }
   ],
   "source": [
    "x = torch.rand([1,2,2])\n",
    "print(x)"
   ]
  },
  {
   "cell_type": "code",
   "execution_count": 161,
   "metadata": {},
   "outputs": [],
   "source": [
    "class Module_conv_bn(nn.Module):\n",
    "    \n",
    "    def __init__(self) -> None:\n",
    "        super(Module_conv_bn, self).__init__()\n",
    "        self.conv = nn.Conv2d(1, 3, kernel_size=2, padding=1, stride=1, bias=True)\n",
    "        self.batch = nn.BatchNorm1d(3)\n",
    "    \n",
    "    def forward(self, x):\n",
    "        x = self.conv(x)\n",
    "        #\n",
    "        mean_x = x.sum()/sum(x.size())\n",
    "        std = torch.sqrt(x.var())\n",
    "        print(mean_x, std)\n",
    "        #\n",
    "        x = self.batch(x)\n",
    "        return x, self.conv.weight.data, self.conv.bias.data, self.batch.weight.data, mean_x, std"
   ]
  },
  {
   "cell_type": "code",
   "execution_count": 162,
   "metadata": {},
   "outputs": [
    {
     "name": "stdout",
     "output_type": "stream",
     "text": [
      "tensor(-0.3173, grad_fn=<DivBackward0>) tensor(0.1519, grad_fn=<SqrtBackward0>)\n",
      "tensor([[[ 1.2773,  1.0236,  1.0118],\n",
      "         [ 1.4045,  1.1566,  1.5322],\n",
      "         [ 0.9969,  1.6727,  0.8900]],\n",
      "\n",
      "        [[-1.2427, -1.4645, -1.1827],\n",
      "         [-1.0456, -0.5857, -0.7345],\n",
      "         [ 0.3191,  0.0097, -1.0917]],\n",
      "\n",
      "        [[ 0.1434,  0.0057,  0.4280],\n",
      "         [-0.8222, -0.8238, -0.0815],\n",
      "         [-0.8177, -1.4855, -0.4935]]], grad_fn=<NativeBatchNormBackward0>)\n"
     ]
    }
   ],
   "source": [
    "mod = Module_conv_bn()\n",
    "res, wt_conv, bs_conv, wt_batch, mean_x, std = mod(x)\n",
    "\n",
    "print(res)"
   ]
  },
  {
   "cell_type": "code",
   "execution_count": 176,
   "metadata": {},
   "outputs": [],
   "source": [
    "class Only_Conv(nn.Module):\n",
    "    def __init__(self) -> None:\n",
    "        super(Only_Conv, self).__init__()\n",
    "        self.new_conv = nn.Conv2d(1, 3, kernel_size=2, padding=1, stride=1, bias=True)\n",
    "        # I need to update date for that conv\n",
    "        self.new_conv.weight.data = wt_conv\n",
    "        self.new_conv.bias.data = bs_conv\n",
    "        self.batch = nn.BatchNorm1d(3)\n",
    "    def forward(self, x):\n",
    "        x = self.new_conv(x)\n",
    "        x = self.batch(x)\n",
    "        return x"
   ]
  },
  {
   "cell_type": "code",
   "execution_count": 177,
   "metadata": {},
   "outputs": [
    {
     "name": "stdout",
     "output_type": "stream",
     "text": [
      "tensor([[[ 1.2773,  1.0236,  1.0118],\n",
      "         [ 1.4045,  1.1566,  1.5322],\n",
      "         [ 0.9969,  1.6727,  0.8900]],\n",
      "\n",
      "        [[-1.2427, -1.4645, -1.1827],\n",
      "         [-1.0456, -0.5857, -0.7345],\n",
      "         [ 0.3191,  0.0097, -1.0917]],\n",
      "\n",
      "        [[ 0.1434,  0.0057,  0.4280],\n",
      "         [-0.8222, -0.8238, -0.0815],\n",
      "         [-0.8177, -1.4855, -0.4935]]], grad_fn=<NativeBatchNormBackward0>)\n"
     ]
    }
   ],
   "source": [
    "new_mod = Only_Conv()\n",
    "res = new_mod(x)\n",
    "print(res)"
   ]
  }
 ],
 "metadata": {
  "kernelspec": {
   "display_name": "Python 3.10.7 64-bit",
   "language": "python",
   "name": "python3"
  },
  "language_info": {
   "codemirror_mode": {
    "name": "ipython",
    "version": 3
   },
   "file_extension": ".py",
   "mimetype": "text/x-python",
   "name": "python",
   "nbconvert_exporter": "python",
   "pygments_lexer": "ipython3",
   "version": "3.10.7"
  },
  "orig_nbformat": 4,
  "vscode": {
   "interpreter": {
    "hash": "767d51c1340bd893661ea55ea3124f6de3c7a262a8b4abca0554b478b1e2ff90"
   }
  }
 },
 "nbformat": 4,
 "nbformat_minor": 2
}
